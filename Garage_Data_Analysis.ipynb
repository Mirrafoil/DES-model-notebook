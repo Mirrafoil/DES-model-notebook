{
 "cells": [
  {
   "cell_type": "markdown",
   "metadata": {},
   "source": [
    "# Parameter estimation for DES model\n",
    "\n",
    "## Peter Kennedy, 2092220, Cardiff University, MAT021"
   ]
  },
  {
   "cell_type": "code",
   "execution_count": 2,
   "metadata": {},
   "outputs": [],
   "source": [
    "import pandas as pd\n",
    "import numpy as np\n",
    "import matplotlib.pyplot as plt\n",
    "import math\n",
    "import datetime"
   ]
  },
  {
   "cell_type": "markdown",
   "metadata": {},
   "source": [
    "## Analysis of arrivalScheduled.csv data"
   ]
  },
  {
   "cell_type": "code",
   "execution_count": 9,
   "metadata": {},
   "outputs": [
    {
     "data": {
      "text/html": [
       "<div>\n",
       "<style scoped>\n",
       "    .dataframe tbody tr th:only-of-type {\n",
       "        vertical-align: middle;\n",
       "    }\n",
       "\n",
       "    .dataframe tbody tr th {\n",
       "        vertical-align: top;\n",
       "    }\n",
       "\n",
       "    .dataframe thead th {\n",
       "        text-align: right;\n",
       "    }\n",
       "</style>\n",
       "<table border=\"1\" class=\"dataframe\">\n",
       "  <thead>\n",
       "    <tr style=\"text-align: right;\">\n",
       "      <th></th>\n",
       "      <th>Date</th>\n",
       "      <th>Day</th>\n",
       "      <th>Cars</th>\n",
       "    </tr>\n",
       "  </thead>\n",
       "  <tbody>\n",
       "    <tr>\n",
       "      <th>0</th>\n",
       "      <td>01/01/19</td>\n",
       "      <td>Tuesday</td>\n",
       "      <td>4</td>\n",
       "    </tr>\n",
       "    <tr>\n",
       "      <th>1</th>\n",
       "      <td>02/01/19</td>\n",
       "      <td>Wednesday</td>\n",
       "      <td>3</td>\n",
       "    </tr>\n",
       "    <tr>\n",
       "      <th>2</th>\n",
       "      <td>03/01/19</td>\n",
       "      <td>Thursday</td>\n",
       "      <td>4</td>\n",
       "    </tr>\n",
       "    <tr>\n",
       "      <th>3</th>\n",
       "      <td>04/01/19</td>\n",
       "      <td>Friday</td>\n",
       "      <td>2</td>\n",
       "    </tr>\n",
       "    <tr>\n",
       "      <th>4</th>\n",
       "      <td>05/01/19</td>\n",
       "      <td>Saturday</td>\n",
       "      <td>4</td>\n",
       "    </tr>\n",
       "  </tbody>\n",
       "</table>\n",
       "</div>"
      ],
      "text/plain": [
       "       Date        Day  Cars\n",
       "0  01/01/19    Tuesday     4\n",
       "1  02/01/19  Wednesday     3\n",
       "2  03/01/19   Thursday     4\n",
       "3  04/01/19     Friday     2\n",
       "4  05/01/19   Saturday     4"
      ]
     },
     "execution_count": 9,
     "metadata": {},
     "output_type": "execute_result"
    }
   ],
   "source": [
    "arrSched = pd.read_csv('arrivalScheduled.csv')\n",
    "arrSched = arrSched.rename(columns={\"Number of cars\": \"Cars\"})\n",
    "\n",
    "arrSched.head()"
   ]
  },
  {
   "cell_type": "code",
   "execution_count": 50,
   "metadata": {},
   "outputs": [
    {
     "data": {
      "text/plain": [
       "(array([ 93.,   0.,   0.,   0.,   0., 186.,   0.,   0.,   0.,  86.]),\n",
       " array([2. , 2.2, 2.4, 2.6, 2.8, 3. , 3.2, 3.4, 3.6, 3.8, 4. ]),\n",
       " <a list of 10 Patch objects>)"
      ]
     },
     "execution_count": 50,
     "metadata": {},
     "output_type": "execute_result"
    },
    {
     "data": {
      "image/png": "[encoded data removed]",
      "text/plain": [
       "<Figure size 432x288 with 1 Axes>"
      ]
     },
     "metadata": {
      "needs_background": "light"
     },
     "output_type": "display_data"
    }
   ],
   "source": [
    "plt.xlabel('Scheduled arrival batch size')\n",
    "plt.ylabel('Frequency')\n",
    "plt.title(\"Histogram of 'Number of cars' in arrivalScheduled.csv\")\n",
    "plt.hist(arrSched.Cars)"
   ]
  },
  {
   "cell_type": "code",
   "execution_count": 4,
   "metadata": {},
   "outputs": [
    {
     "data": {
      "text/plain": [
       "2.9808219178082194"
      ]
     },
     "execution_count": 4,
     "metadata": {},
     "output_type": "execute_result"
    }
   ],
   "source": [
    "# Average (mean) of batch size of scheduled arrivals per day\n",
    "arrSched.Cars.mean()"
   ]
  },
  {
   "cell_type": "code",
   "execution_count": 17,
   "metadata": {},
   "outputs": [
    {
     "data": {
      "text/plain": [
       "0.7009917492277086"
      ]
     },
     "execution_count": 17,
     "metadata": {},
     "output_type": "execute_result"
    }
   ],
   "source": [
    "# Standard deviation of batch size of scheduled arrivals per day\n",
    "arrSched.Cars.std()"
   ]
  },
  {
   "cell_type": "markdown",
   "metadata": {},
   "source": [
    "## Analysis of arrivalUnscheduled.csv data"
   ]
  },
  {
   "cell_type": "code",
   "execution_count": 12,
   "metadata": {},
   "outputs": [
    {
     "data": {
      "text/html": [
       "<div>\n",
       "<style scoped>\n",
       "    .dataframe tbody tr th:only-of-type {\n",
       "        vertical-align: middle;\n",
       "    }\n",
       "\n",
       "    .dataframe tbody tr th {\n",
       "        vertical-align: top;\n",
       "    }\n",
       "\n",
       "    .dataframe thead th {\n",
       "        text-align: right;\n",
       "    }\n",
       "</style>\n",
       "<table border=\"1\" class=\"dataframe\">\n",
       "  <thead>\n",
       "    <tr style=\"text-align: right;\">\n",
       "      <th></th>\n",
       "      <th>UnscheduledArrivals</th>\n",
       "    </tr>\n",
       "  </thead>\n",
       "  <tbody>\n",
       "    <tr>\n",
       "      <th>0</th>\n",
       "      <td>01/01/2019 00:00</td>\n",
       "    </tr>\n",
       "    <tr>\n",
       "      <th>1</th>\n",
       "      <td>02/01/2019 16:00</td>\n",
       "    </tr>\n",
       "    <tr>\n",
       "      <th>2</th>\n",
       "      <td>04/01/2019 22:00</td>\n",
       "    </tr>\n",
       "    <tr>\n",
       "      <th>3</th>\n",
       "      <td>06/01/2019 20:00</td>\n",
       "    </tr>\n",
       "    <tr>\n",
       "      <th>4</th>\n",
       "      <td>08/01/2019 18:00</td>\n",
       "    </tr>\n",
       "  </tbody>\n",
       "</table>\n",
       "</div>"
      ],
      "text/plain": [
       "  UnscheduledArrivals\n",
       "0    01/01/2019 00:00\n",
       "1    02/01/2019 16:00\n",
       "2    04/01/2019 22:00\n",
       "3    06/01/2019 20:00\n",
       "4    08/01/2019 18:00"
      ]
     },
     "execution_count": 12,
     "metadata": {},
     "output_type": "execute_result"
    }
   ],
   "source": [
    "arrUnsched = pd.read_csv('arrivalUnscheduled.csv')\n",
    "\n",
    "arrUnsched.head()"
   ]
  },
  {
   "cell_type": "code",
   "execution_count": 13,
   "metadata": {},
   "outputs": [],
   "source": [
    "#Calculation of individual inter arrival times for unscheduled arrivals (in days)\n",
    "\n",
    "delta_bucket = []\n",
    "\n",
    "for unsched_date in range(len(arrUnsched) - 1):\n",
    "    date_time_str_this = arrUnsched.iloc[unsched_date][0]\n",
    "    date_time_obj_this = datetime.datetime.strptime(date_time_str_this, '%d/%m/%Y %H:%M')\n",
    "    date_time_str_next = arrUnsched.iloc[unsched_date + 1][0]\n",
    "    date_time_obj_next = datetime.datetime.strptime(date_time_str_next, '%d/%m/%Y %H:%M')\n",
    "    delta = date_time_obj_next.timestamp() - date_time_obj_this.timestamp()\n",
    "    delta_bucket.append(delta/(60*60*24))\n",
    "    "
   ]
  },
  {
   "cell_type": "code",
   "execution_count": 140,
   "metadata": {},
   "outputs": [
    {
     "data": {
      "text/plain": [
       "array([1.66666667, 2.25      , 1.91666667, 1.91666667, 2.04166667,\n",
       "       2.875     , 1.20833333, 1.66666667, 1.875     , 1.25      ,\n",
       "       2.29166667, 1.375     , 1.83333333, 1.58333333, 1.66666667,\n",
       "       1.41666667, 1.70833333, 2.33333333, 2.5       , 1.83333333,\n",
       "       2.125     , 2.04166667, 2.41666667, 1.79166667, 1.70833333,\n",
       "       1.625     , 1.66666667, 1.79166667, 1.95833333, 1.95833333,\n",
       "       2.33333333, 1.70833333, 2.41666667, 2.08333333, 1.83333333,\n",
       "       2.41666667, 2.08333333, 1.75      , 2.29166667, 1.79166667,\n",
       "       1.79166667, 2.29166667, 1.70833333, 2.25      , 1.83333333,\n",
       "       1.95833333, 2.16666667, 1.95833333, 1.75      , 2.20833333,\n",
       "       2.        , 2.625     , 2.08333333, 2.625     , 2.        ,\n",
       "       2.20833333, 2.41666667, 2.08333333, 2.08333333, 1.79166667,\n",
       "       1.625     , 2.        , 1.70833333, 2.20833333, 1.70833333,\n",
       "       2.04166667, 2.5       , 2.16666667, 1.625     , 1.625     ,\n",
       "       2.20833333, 1.95833333, 2.16666667, 1.375     , 1.54166667,\n",
       "       2.125     , 1.70833333, 2.41666667, 1.625     , 1.45833333,\n",
       "       2.        , 2.75      , 2.33333333, 1.875     , 2.        ,\n",
       "       2.25      , 1.875     , 2.        , 2.04166667, 1.5       ,\n",
       "       1.75      , 2.08333333, 2.125     , 2.33333333, 2.20833333,\n",
       "       2.20833333, 2.20833333, 2.08333333, 2.45833333, 1.75      ,\n",
       "       1.75      , 1.79166667, 1.95833333, 1.66666667, 1.91666667,\n",
       "       1.75      , 1.95833333, 2.20833333, 2.04166667, 2.08333333,\n",
       "       2.29166667, 1.75      , 2.25      , 1.66666667, 2.25      ,\n",
       "       1.83333333, 2.25      , 1.75      , 1.95833333, 1.875     ,\n",
       "       2.29166667, 2.25      , 1.95833333, 1.54166667, 1.79166667,\n",
       "       1.83333333, 1.91666667, 2.41666667, 2.04166667, 2.04166667,\n",
       "       1.79166667, 2.16666667, 2.25      , 1.54166667, 1.66666667,\n",
       "       2.20833333, 2.16666667, 1.91666667, 1.75      , 2.08333333,\n",
       "       2.41666667, 2.25      , 1.91666667, 2.08333333, 2.20833333,\n",
       "       2.04166667, 1.95833333, 1.83333333, 1.875     , 2.        ,\n",
       "       2.16666667, 1.79166667, 2.08333333, 1.66666667, 1.75      ,\n",
       "       1.875     , 2.5       , 1.83333333, 1.75      , 2.45833333,\n",
       "       2.        , 2.54166667, 1.75      , 2.29166667, 2.375     ,\n",
       "       2.125     , 2.375     , 2.20833333, 2.16666667, 2.25      ,\n",
       "       1.79166667, 2.04166667, 2.125     , 1.83333333, 2.125     ,\n",
       "       1.625     , 2.16666667, 1.79166667, 2.04166667, 2.        ,\n",
       "       1.91666667, 2.        , 1.875     ])"
      ]
     },
     "execution_count": 140,
     "metadata": {},
     "output_type": "execute_result"
    }
   ],
   "source": [
    "np_delta_bucket = np.array(delta_bucket)\n",
    "np_delta_bucket"
   ]
  },
  {
   "cell_type": "code",
   "execution_count": 47,
   "metadata": {},
   "outputs": [
    {
     "data": {
      "text/plain": [
       "(array([ 2.,  5., 18., 39., 44., 25., 31., 15.,  2.,  2.]),\n",
       " array([1.20833333, 1.375     , 1.54166667, 1.70833333, 1.875     ,\n",
       "        2.04166667, 2.20833333, 2.375     , 2.54166667, 2.70833333,\n",
       "        2.875     ]),\n",
       " <a list of 10 Patch objects>)"
      ]
     },
     "execution_count": 47,
     "metadata": {},
     "output_type": "execute_result"
    },
    {
     "data": {
      "image/png": "[encoded data removed]",
      "text/plain": [
       "<Figure size 432x288 with 1 Axes>"
      ]
     },
     "metadata": {
      "needs_background": "light"
     },
     "output_type": "display_data"
    }
   ],
   "source": [
    "plt.xlabel('Unscheduled inter-arrival time (Days)')\n",
    "plt.ylabel('Frequency')\n",
    "plt.title(\"Histogram of inter-arrival time derived from arrivalUnscheduled.csv\")\n",
    "plt.hist(np_delta_bucket, bins=10)"
   ]
  },
  {
   "cell_type": "code",
   "execution_count": 141,
   "metadata": {},
   "outputs": [
    {
     "data": {
      "text/plain": [
       "1.994307832422586"
      ]
     },
     "execution_count": 141,
     "metadata": {},
     "output_type": "execute_result"
    }
   ],
   "source": [
    "# Average (mean) inter-arrival time of unscheduled arrivals (in days)\n",
    "np_delta_bucket.mean()"
   ]
  },
  {
   "cell_type": "code",
   "execution_count": 142,
   "metadata": {},
   "outputs": [
    {
     "data": {
      "text/plain": [
       "1.2083333333333333"
      ]
     },
     "execution_count": 142,
     "metadata": {},
     "output_type": "execute_result"
    }
   ],
   "source": [
    "np_delta_bucket.min()"
   ]
  },
  {
   "cell_type": "code",
   "execution_count": 138,
   "metadata": {},
   "outputs": [
    {
     "data": {
      "text/plain": [
       "0.28791143409948605"
      ]
     },
     "execution_count": 138,
     "metadata": {},
     "output_type": "execute_result"
    }
   ],
   "source": [
    "# Standard deviation of inter-arrival time of unscheduled arrivals (in days)\n",
    "np_delta_bucket.std()"
   ]
  },
  {
   "cell_type": "markdown",
   "metadata": {},
   "source": [
    "## Analysis of serviceScheduled.csv data"
   ]
  },
  {
   "cell_type": "code",
   "execution_count": 36,
   "metadata": {},
   "outputs": [
    {
     "data": {
      "text/html": [
       "<div>\n",
       "<style scoped>\n",
       "    .dataframe tbody tr th:only-of-type {\n",
       "        vertical-align: middle;\n",
       "    }\n",
       "\n",
       "    .dataframe tbody tr th {\n",
       "        vertical-align: top;\n",
       "    }\n",
       "\n",
       "    .dataframe thead th {\n",
       "        text-align: right;\n",
       "    }\n",
       "</style>\n",
       "<table border=\"1\" class=\"dataframe\">\n",
       "  <thead>\n",
       "    <tr style=\"text-align: right;\">\n",
       "      <th></th>\n",
       "      <th>timeinhours</th>\n",
       "    </tr>\n",
       "  </thead>\n",
       "  <tbody>\n",
       "    <tr>\n",
       "      <th>0</th>\n",
       "      <td>2.031513</td>\n",
       "    </tr>\n",
       "    <tr>\n",
       "      <th>1</th>\n",
       "      <td>1.984567</td>\n",
       "    </tr>\n",
       "    <tr>\n",
       "      <th>2</th>\n",
       "      <td>1.937508</td>\n",
       "    </tr>\n",
       "    <tr>\n",
       "      <th>3</th>\n",
       "      <td>1.501078</td>\n",
       "    </tr>\n",
       "    <tr>\n",
       "      <th>4</th>\n",
       "      <td>1.728006</td>\n",
       "    </tr>\n",
       "  </tbody>\n",
       "</table>\n",
       "</div>"
      ],
      "text/plain": [
       "   timeinhours\n",
       "0     2.031513\n",
       "1     1.984567\n",
       "2     1.937508\n",
       "3     1.501078\n",
       "4     1.728006"
      ]
     },
     "execution_count": 36,
     "metadata": {},
     "output_type": "execute_result"
    }
   ],
   "source": [
    "servSched = pd.read_csv('serviceScheduled.csv')\n",
    "np_servSched = np.array(servSched)\n",
    "servSched.head()"
   ]
  },
  {
   "cell_type": "code",
   "execution_count": 42,
   "metadata": {},
   "outputs": [
    {
     "data": {
      "text/plain": [
       "(array([102., 102., 102.,  89., 100.,  97., 117.,  90., 105.,  96.]),\n",
       " array([1.50107804, 1.60093953, 1.70080102, 1.80066251, 1.900524  ,\n",
       "        2.0003855 , 2.10024699, 2.20010848, 2.29996997, 2.39983146,\n",
       "        2.49969295]),\n",
       " <a list of 10 Patch objects>)"
      ]
     },
     "execution_count": 42,
     "metadata": {},
     "output_type": "execute_result"
    },
    {
     "data": {
      "image/png": "[encoded data removed]",
      "text/plain": [
       "<Figure size 432x288 with 1 Axes>"
      ]
     },
     "metadata": {
      "needs_background": "light"
     },
     "output_type": "display_data"
    }
   ],
   "source": [
    "plt.xlabel('Scheduled service time (Hours)')\n",
    "plt.ylabel('Frequency')\n",
    "plt.title(\"Histogram of scheduled service times in arrivalUnscheduled.csv\")\n",
    "plt.hist(np_servSched, bins=10)"
   ]
  },
  {
   "cell_type": "code",
   "execution_count": 30,
   "metadata": {},
   "outputs": [
    {
     "data": {
      "text/plain": [
       "timeinhours    0.083295\n",
       "dtype: float64"
      ]
     },
     "execution_count": 30,
     "metadata": {},
     "output_type": "execute_result"
    }
   ],
   "source": [
    "# Average (mean) time spent repairing scheduled cars (in days)\n",
    "servSched.mean()/24"
   ]
  },
  {
   "cell_type": "code",
   "execution_count": 31,
   "metadata": {},
   "outputs": [
    {
     "data": {
      "text/plain": [
       "timeinhours    0.062545\n",
       "dtype: float64"
      ]
     },
     "execution_count": 31,
     "metadata": {},
     "output_type": "execute_result"
    }
   ],
   "source": [
    "# Minimum time spent repairing scheduled cars (in days)\n",
    "servSched.min()/24"
   ]
  },
  {
   "cell_type": "code",
   "execution_count": 181,
   "metadata": {},
   "outputs": [
    {
     "data": {
      "text/plain": [
       "timeinhours    0.104154\n",
       "dtype: float64"
      ]
     },
     "execution_count": 181,
     "metadata": {},
     "output_type": "execute_result"
    }
   ],
   "source": [
    "# Maximum time spent repairing scheduled cars (in days)\n",
    "servSched.max()/24"
   ]
  },
  {
   "cell_type": "markdown",
   "metadata": {},
   "source": [
    "## Analysis of serviceUnscheduled.csv data"
   ]
  },
  {
   "cell_type": "code",
   "execution_count": 37,
   "metadata": {},
   "outputs": [
    {
     "data": {
      "text/html": [
       "<div>\n",
       "<style scoped>\n",
       "    .dataframe tbody tr th:only-of-type {\n",
       "        vertical-align: middle;\n",
       "    }\n",
       "\n",
       "    .dataframe tbody tr th {\n",
       "        vertical-align: top;\n",
       "    }\n",
       "\n",
       "    .dataframe thead th {\n",
       "        text-align: right;\n",
       "    }\n",
       "</style>\n",
       "<table border=\"1\" class=\"dataframe\">\n",
       "  <thead>\n",
       "    <tr style=\"text-align: right;\">\n",
       "      <th></th>\n",
       "      <th>timeinhours</th>\n",
       "    </tr>\n",
       "  </thead>\n",
       "  <tbody>\n",
       "    <tr>\n",
       "      <th>0</th>\n",
       "      <td>0.858453</td>\n",
       "    </tr>\n",
       "    <tr>\n",
       "      <th>1</th>\n",
       "      <td>8.519445</td>\n",
       "    </tr>\n",
       "    <tr>\n",
       "      <th>2</th>\n",
       "      <td>0.581225</td>\n",
       "    </tr>\n",
       "    <tr>\n",
       "      <th>3</th>\n",
       "      <td>7.671357</td>\n",
       "    </tr>\n",
       "    <tr>\n",
       "      <th>4</th>\n",
       "      <td>0.847853</td>\n",
       "    </tr>\n",
       "  </tbody>\n",
       "</table>\n",
       "</div>"
      ],
      "text/plain": [
       "   timeinhours\n",
       "0     0.858453\n",
       "1     8.519445\n",
       "2     0.581225\n",
       "3     7.671357\n",
       "4     0.847853"
      ]
     },
     "execution_count": 37,
     "metadata": {},
     "output_type": "execute_result"
    }
   ],
   "source": [
    "servUnsched = pd.read_csv('serviceUnscheduled.csv')\n",
    "np_servUnsched = np.array(servUnsched)\n",
    "servUnsched.head()"
   ]
  },
  {
   "cell_type": "code",
   "execution_count": 39,
   "metadata": {},
   "outputs": [
    {
     "data": {
      "text/plain": [
       "(array([293., 209., 140., 100.,  72.,  61.,  31.,  26.,  22.,  11.,  17.,\n",
       "          6.,   5.,   1.,   4.,   1.,   0.,   0.,   0.,   1.]),\n",
       " array([4.61999800e-03, 8.07727190e-01, 1.61083438e+00, 2.41394157e+00,\n",
       "        3.21704877e+00, 4.02015596e+00, 4.82326315e+00, 5.62637034e+00,\n",
       "        6.42947753e+00, 7.23258473e+00, 8.03569192e+00, 8.83879911e+00,\n",
       "        9.64190630e+00, 1.04450135e+01, 1.12481207e+01, 1.20512279e+01,\n",
       "        1.28543351e+01, 1.36574423e+01, 1.44605495e+01, 1.52636566e+01,\n",
       "        1.60667638e+01]),\n",
       " <a list of 20 Patch objects>)"
      ]
     },
     "execution_count": 39,
     "metadata": {},
     "output_type": "execute_result"
    },
    {
     "data": {
      "image/png": "[encoded data removed]",
      "text/plain": [
       "<Figure size 432x288 with 1 Axes>"
      ]
     },
     "metadata": {
      "needs_background": "light"
     },
     "output_type": "display_data"
    }
   ],
   "source": [
    "plt.xlabel('Scheduled service time (Hours)')\n",
    "plt.ylabel('Frequency')\n",
    "plt.title(\"Histogram of scheduled service times in arrivalUnscheduled.csv\")\n",
    "plt.hist(np_servUnsched, bins=20)"
   ]
  },
  {
   "cell_type": "code",
   "execution_count": 10,
   "metadata": {},
   "outputs": [
    {
     "data": {
      "text/plain": [
       "timeinhours    0.097373\n",
       "dtype: float64"
      ]
     },
     "execution_count": 10,
     "metadata": {},
     "output_type": "execute_result"
    }
   ],
   "source": [
    "# Average (mean) time spent repairing unscheduled cars (in days)\n",
    "servUnsched.mean()/24"
   ]
  },
  {
   "cell_type": "code",
   "execution_count": 16,
   "metadata": {},
   "outputs": [
    {
     "data": {
      "text/plain": [
       "timeinhours    0.000192\n",
       "dtype: float64"
      ]
     },
     "execution_count": 16,
     "metadata": {},
     "output_type": "execute_result"
    }
   ],
   "source": [
    "# Minimum time spent repairing unscheduled cars (in days)\n",
    "servUnsched.min()/24"
   ]
  },
  {
   "cell_type": "code",
   "execution_count": 144,
   "metadata": {},
   "outputs": [
    {
     "data": {
      "text/plain": [
       "timeinhours    0.669448\n",
       "dtype: float64"
      ]
     },
     "execution_count": 144,
     "metadata": {},
     "output_type": "execute_result"
    }
   ],
   "source": [
    "# Maximum time spent repairing unscheduled cars (in days)\n",
    "servUnsched.max()/24"
   ]
  },
  {
   "cell_type": "markdown",
   "metadata": {},
   "source": [
    "## Warm Up Time"
   ]
  },
  {
   "cell_type": "code",
   "execution_count": 195,
   "metadata": {},
   "outputs": [],
   "source": [
    "queueTime = pd.read_csv('queueTime.csv')"
   ]
  },
  {
   "cell_type": "code",
   "execution_count": 196,
   "metadata": {
    "scrolled": true
   },
   "outputs": [
    {
     "data": {
      "text/plain": [
       "[<matplotlib.lines.Line2D at 0x7f9743e5bdd8>]"
      ]
     },
     "execution_count": 196,
     "metadata": {},
     "output_type": "execute_result"
    },
    {
     "data": {
      "image/png": "[encoded data removed]",
      "text/plain": [
       "<Figure size 1080x288 with 1 Axes>"
      ]
     },
     "metadata": {
      "needs_background": "light"
     },
     "output_type": "display_data"
    }
   ],
   "source": [
    "plt.figure(figsize=[15,4])\n",
    "plt.grid()\n",
    "plt.xlabel('Days since start of trial')\n",
    "plt.ylabel('Daily average waiting time (hours)')\n",
    "plt.title('Plot of daily average waiting times for scheduled cars')\n",
    "plt.plot(queueTime)"
   ]
  },
  {
   "cell_type": "markdown",
   "metadata": {},
   "source": [
    "## Analysis of mechlog.csv data"
   ]
  },
  {
   "cell_type": "code",
   "execution_count": 220,
   "metadata": {},
   "outputs": [
    {
     "data": {
      "text/html": [
       "<div>\n",
       "<style scoped>\n",
       "    .dataframe tbody tr th:only-of-type {\n",
       "        vertical-align: middle;\n",
       "    }\n",
       "\n",
       "    .dataframe tbody tr th {\n",
       "        vertical-align: top;\n",
       "    }\n",
       "\n",
       "    .dataframe thead th {\n",
       "        text-align: right;\n",
       "    }\n",
       "</style>\n",
       "<table border=\"1\" class=\"dataframe\">\n",
       "  <thead>\n",
       "    <tr style=\"text-align: right;\">\n",
       "      <th></th>\n",
       "      <th>time_in</th>\n",
       "      <th>time_out</th>\n",
       "      <th>label</th>\n",
       "      <th>wait_time</th>\n",
       "      <th>time_with_mech</th>\n",
       "      <th>other</th>\n",
       "    </tr>\n",
       "  </thead>\n",
       "  <tbody>\n",
       "    <tr>\n",
       "      <th>0</th>\n",
       "      <td>1.00000</td>\n",
       "      <td>1.06498</td>\n",
       "      <td>1</td>\n",
       "      <td>0.00000</td>\n",
       "      <td>0.06498</td>\n",
       "      <td>0</td>\n",
       "    </tr>\n",
       "    <tr>\n",
       "      <th>1</th>\n",
       "      <td>1.06498</td>\n",
       "      <td>1.15098</td>\n",
       "      <td>1</td>\n",
       "      <td>0.06498</td>\n",
       "      <td>0.08600</td>\n",
       "      <td>0</td>\n",
       "    </tr>\n",
       "    <tr>\n",
       "      <th>2</th>\n",
       "      <td>1.15098</td>\n",
       "      <td>1.24559</td>\n",
       "      <td>1</td>\n",
       "      <td>0.15098</td>\n",
       "      <td>0.09461</td>\n",
       "      <td>0</td>\n",
       "    </tr>\n",
       "    <tr>\n",
       "      <th>3</th>\n",
       "      <td>1.98464</td>\n",
       "      <td>2.23396</td>\n",
       "      <td>2</td>\n",
       "      <td>0.00000</td>\n",
       "      <td>0.24932</td>\n",
       "      <td>0</td>\n",
       "    </tr>\n",
       "    <tr>\n",
       "      <th>4</th>\n",
       "      <td>2.23396</td>\n",
       "      <td>2.31835</td>\n",
       "      <td>1</td>\n",
       "      <td>0.23396</td>\n",
       "      <td>0.08439</td>\n",
       "      <td>0</td>\n",
       "    </tr>\n",
       "  </tbody>\n",
       "</table>\n",
       "</div>"
      ],
      "text/plain": [
       "   time_in  time_out  label  wait_time  time_with_mech  other\n",
       "0  1.00000   1.06498      1    0.00000         0.06498      0\n",
       "1  1.06498   1.15098      1    0.06498         0.08600      0\n",
       "2  1.15098   1.24559      1    0.15098         0.09461      0\n",
       "3  1.98464   2.23396      2    0.00000         0.24932      0\n",
       "4  2.23396   2.31835      1    0.23396         0.08439      0"
      ]
     },
     "execution_count": 220,
     "metadata": {},
     "output_type": "execute_result"
    }
   ],
   "source": [
    "mechLog = pd.read_csv('mechlog.csv')\n",
    "mechLog.head()"
   ]
  },
  {
   "cell_type": "code",
   "execution_count": 221,
   "metadata": {},
   "outputs": [
    {
     "data": {
      "text/plain": [
       "<matplotlib.axes._subplots.AxesSubplot at 0x7f9745585278>"
      ]
     },
     "execution_count": 221,
     "metadata": {},
     "output_type": "execute_result"
    },
    {
     "data": {
      "image/png": "[encoded data removed]",
      "text/plain": [
       "<Figure size 432x288 with 1 Axes>"
      ]
     },
     "metadata": {
      "needs_background": "light"
     },
     "output_type": "display_data"
    }
   ],
   "source": [
    "(mechLog[mechLog['label'] == 1]['time_with_mech']*24).hist()"
   ]
  },
  {
   "cell_type": "code",
   "execution_count": 222,
   "metadata": {},
   "outputs": [
    {
     "data": {
      "text/plain": [
       "2.003893816863101"
      ]
     },
     "execution_count": 222,
     "metadata": {},
     "output_type": "execute_result"
    }
   ],
   "source": [
    "# Average (mean) time that scheduled vehicles were worked on by the mechanic (in hours)\n",
    "sum(mechLog[mechLog['label'] == 1]['time_with_mech'])/len(mechLog[mechLog['label'] == 1])*24"
   ]
  },
  {
   "cell_type": "code",
   "execution_count": 223,
   "metadata": {},
   "outputs": [
    {
     "data": {
      "text/plain": [
       "1.50048"
      ]
     },
     "execution_count": 223,
     "metadata": {},
     "output_type": "execute_result"
    }
   ],
   "source": [
    "# Minimum time that scheduled vehicles were worked on by the mechanic (in hours)\n",
    "mechLog[mechLog['label'] == 1]['time_with_mech'].min()*24"
   ]
  },
  {
   "cell_type": "code",
   "execution_count": 224,
   "metadata": {},
   "outputs": [
    {
     "data": {
      "text/plain": [
       "2.50008"
      ]
     },
     "execution_count": 224,
     "metadata": {},
     "output_type": "execute_result"
    }
   ],
   "source": [
    "# Maximum time that scheduled vehicles were worked on by the mechanic (in hours)\n",
    "mechLog[mechLog['label'] == 1]['time_with_mech'].max()*24"
   ]
  },
  {
   "cell_type": "markdown",
   "metadata": {},
   "source": [
    "## Analysis of schedtime.csv data"
   ]
  },
  {
   "cell_type": "code",
   "execution_count": 230,
   "metadata": {},
   "outputs": [
    {
     "data": {
      "text/html": [
       "<div>\n",
       "<style scoped>\n",
       "    .dataframe tbody tr th:only-of-type {\n",
       "        vertical-align: middle;\n",
       "    }\n",
       "\n",
       "    .dataframe tbody tr th {\n",
       "        vertical-align: top;\n",
       "    }\n",
       "\n",
       "    .dataframe thead th {\n",
       "        text-align: right;\n",
       "    }\n",
       "</style>\n",
       "<table border=\"1\" class=\"dataframe\">\n",
       "  <thead>\n",
       "    <tr style=\"text-align: right;\">\n",
       "      <th></th>\n",
       "      <th>Time</th>\n",
       "    </tr>\n",
       "  </thead>\n",
       "  <tbody>\n",
       "    <tr>\n",
       "      <th>0</th>\n",
       "      <td>0.09010</td>\n",
       "    </tr>\n",
       "    <tr>\n",
       "      <th>1</th>\n",
       "      <td>0.16642</td>\n",
       "    </tr>\n",
       "    <tr>\n",
       "      <th>2</th>\n",
       "      <td>0.24145</td>\n",
       "    </tr>\n",
       "    <tr>\n",
       "      <th>3</th>\n",
       "      <td>0.06373</td>\n",
       "    </tr>\n",
       "    <tr>\n",
       "      <th>4</th>\n",
       "      <td>0.13512</td>\n",
       "    </tr>\n",
       "  </tbody>\n",
       "</table>\n",
       "</div>"
      ],
      "text/plain": [
       "      Time\n",
       "0  0.09010\n",
       "1  0.16642\n",
       "2  0.24145\n",
       "3  0.06373\n",
       "4  0.13512"
      ]
     },
     "execution_count": 230,
     "metadata": {},
     "output_type": "execute_result"
    }
   ],
   "source": [
    "schedTime = pd.read_csv('schedtime.csv')\n",
    "schedTime.head()"
   ]
  },
  {
   "cell_type": "code",
   "execution_count": 231,
   "metadata": {},
   "outputs": [
    {
     "data": {
      "text/plain": [
       "<matplotlib.axes._subplots.AxesSubplot at 0x7f97457cd518>"
      ]
     },
     "execution_count": 231,
     "metadata": {},
     "output_type": "execute_result"
    },
    {
     "data": {
      "image/png": "[encoded data removed]",
      "text/plain": [
       "<Figure size 432x288 with 1 Axes>"
      ]
     },
     "metadata": {
      "needs_background": "light"
     },
     "output_type": "display_data"
    }
   ],
   "source": [
    "(schedTime['Time']*24).hist()"
   ]
  },
  {
   "cell_type": "code",
   "execution_count": 232,
   "metadata": {},
   "outputs": [
    {
     "data": {
      "text/plain": [
       "4.419906801843316"
      ]
     },
     "execution_count": 232,
     "metadata": {},
     "output_type": "execute_result"
    }
   ],
   "source": [
    "# Average (mean) time that scheduled vehicles spend in the garage (in hours)\n",
    "(sum(schedTime['Time'])/len(schedTime))*24"
   ]
  },
  {
   "cell_type": "code",
   "execution_count": 233,
   "metadata": {},
   "outputs": [
    {
     "data": {
      "text/plain": [
       "1.50096"
      ]
     },
     "execution_count": 233,
     "metadata": {},
     "output_type": "execute_result"
    }
   ],
   "source": [
    "# Minimum time that scheduled vehicles spend in the garage (in hours)\n",
    "(schedTime['Time'].min())*24"
   ]
  },
  {
   "cell_type": "code",
   "execution_count": 234,
   "metadata": {},
   "outputs": [
    {
     "data": {
      "text/plain": [
       "16.7388"
      ]
     },
     "execution_count": 234,
     "metadata": {},
     "output_type": "execute_result"
    }
   ],
   "source": [
    "# Maximum time that scheduled vehicles spend in the garage (in hours)\n",
    "(schedTime['Time'].max())*24"
   ]
  },
  {
   "cell_type": "markdown",
   "metadata": {},
   "source": [
    "## Mechanic Utilisation"
   ]
  },
  {
   "cell_type": "code",
   "execution_count": 235,
   "metadata": {},
   "outputs": [
    {
     "data": {
      "text/html": [
       "<div>\n",
       "<style scoped>\n",
       "    .dataframe tbody tr th:only-of-type {\n",
       "        vertical-align: middle;\n",
       "    }\n",
       "\n",
       "    .dataframe tbody tr th {\n",
       "        vertical-align: top;\n",
       "    }\n",
       "\n",
       "    .dataframe thead th {\n",
       "        text-align: right;\n",
       "    }\n",
       "</style>\n",
       "<table border=\"1\" class=\"dataframe\">\n",
       "  <thead>\n",
       "    <tr style=\"text-align: right;\">\n",
       "      <th></th>\n",
       "      <th>mechUtil</th>\n",
       "    </tr>\n",
       "  </thead>\n",
       "  <tbody>\n",
       "    <tr>\n",
       "      <th>0</th>\n",
       "      <td>24.144999</td>\n",
       "    </tr>\n",
       "    <tr>\n",
       "      <th>1</th>\n",
       "      <td>17.093344</td>\n",
       "    </tr>\n",
       "    <tr>\n",
       "      <th>2</th>\n",
       "      <td>26.371030</td>\n",
       "    </tr>\n",
       "    <tr>\n",
       "      <th>3</th>\n",
       "      <td>36.430669</td>\n",
       "    </tr>\n",
       "    <tr>\n",
       "      <th>4</th>\n",
       "      <td>16.878879</td>\n",
       "    </tr>\n",
       "  </tbody>\n",
       "</table>\n",
       "</div>"
      ],
      "text/plain": [
       "    mechUtil\n",
       "0  24.144999\n",
       "1  17.093344\n",
       "2  26.371030\n",
       "3  36.430669\n",
       "4  16.878879"
      ]
     },
     "execution_count": 235,
     "metadata": {},
     "output_type": "execute_result"
    }
   ],
   "source": [
    "mechUtil = pd.read_csv('mechUtil.csv')\n",
    "mechUtil.head()"
   ]
  },
  {
   "cell_type": "code",
   "execution_count": 236,
   "metadata": {},
   "outputs": [
    {
     "data": {
      "text/plain": [
       "[<matplotlib.lines.Line2D at 0x7f9745a15dd8>]"
      ]
     },
     "execution_count": 236,
     "metadata": {},
     "output_type": "execute_result"
    },
    {
     "data": {
      "image/png": "[encoded data removed]",
      "text/plain": [
       "<Figure size 1080x288 with 1 Axes>"
      ]
     },
     "metadata": {
      "needs_background": "light"
     },
     "output_type": "display_data"
    }
   ],
   "source": [
    "plt.figure(figsize=[15,4])\n",
    "plt.grid()\n",
    "plt.xlim(0,364)\n",
    "plt.ylim(0,100)\n",
    "plt.xlabel('Days since start of trial')\n",
    "plt.ylabel('Daily utilisation of mechanic (%)')\n",
    "plt.title('Percentage utilisation of mechanic')\n",
    "plt.plot(mechUtil)"
   ]
  },
  {
   "cell_type": "code",
   "execution_count": null,
   "metadata": {},
   "outputs": [],
   "source": []
  }
 ],
 "metadata": {
  "kernelspec": {
   "display_name": "Python 3",
   "language": "python",
   "name": "python3"
  },
  "language_info": {
   "codemirror_mode": {
    "name": "ipython",
    "version": 3
   },
   "file_extension": ".py",
   "mimetype": "text/x-python",
   "name": "python",
   "nbconvert_exporter": "python",
   "pygments_lexer": "ipython3",
   "version": "3.7.3"
  }
 },
 "nbformat": 4,
 "nbformat_minor": 2
}
